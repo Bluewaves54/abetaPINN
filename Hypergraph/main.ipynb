{
 "cells": [
  {
   "cell_type": "code",
   "execution_count": 1,
   "metadata": {},
   "outputs": [],
   "source": [
    "from species_hypergraph import SpeciesHypergraph, OnLadderSpeciesHypergraph"
   ]
  },
  {
   "cell_type": "code",
   "execution_count": 7,
   "metadata": {},
   "outputs": [],
   "source": [
    "onladder = OnLadderSpeciesHypergraph([1, 1.4, 2, 3, 5])\n"
   ]
  },
  {
   "cell_type": "code",
   "execution_count": 11,
   "metadata": {},
   "outputs": [
    {
     "data": {
      "text/plain": [
       "[1, 1.4, 2, 3, 5]"
      ]
     },
     "execution_count": 11,
     "metadata": {},
     "output_type": "execute_result"
    }
   ],
   "source": [
    "onladder.sizes"
   ]
  },
  {
   "cell_type": "code",
   "execution_count": 3,
   "metadata": {},
   "outputs": [
    {
     "name": "stdout",
     "output_type": "stream",
     "text": [
      "[[1, 1, 1, 1, 1], [1, 1, 1, 2], [1, 1, 3], [1, 2, 2], [1, 4], [2, 3]]\n"
     ]
    }
   ],
   "source": [
    "def find_combinations(A, x):\n",
    "    def backtrack(start, target, path):\n",
    "        if target == 0:\n",
    "            combinations.append(path)\n",
    "            return\n",
    "        for i in range(start, len(A)):\n",
    "            if A[i] > target:\n",
    "                break\n",
    "            backtrack(i, target - A[i], path + [A[i]])\n",
    "\n",
    "    combinations = []\n",
    "    A.sort()\n",
    "    backtrack(0, x, [])\n",
    "    return combinations"
   ]
  },
  {
   "cell_type": "code",
   "execution_count": 6,
   "metadata": {},
   "outputs": [
    {
     "name": "stdout",
     "output_type": "stream",
     "text": [
      "[[1, 1, 1, 1, 1], [1, 1, 1, 2], [1, 1, 3], [1, 2, 2], [2, 3], [5]]\n"
     ]
    }
   ],
   "source": [
    "A = [1, 1.4, 2, 3, 5]\n",
    "x = 5\n",
    "result = find_combinations(A, x)\n",
    "print(result)"
   ]
  },
  {
   "cell_type": "code",
   "execution_count": 1,
   "metadata": {},
   "outputs": [],
   "source": [
    "from species_hypergraph import Reaction, Species"
   ]
  },
  {
   "cell_type": "code",
   "execution_count": 5,
   "metadata": {},
   "outputs": [],
   "source": [
    "b1 = Species(1)\n",
    "b1_4 = Species(1.4)\n",
    "b2 = Species(2)\n",
    "b4 = Species(4)"
   ]
  },
  {
   "cell_type": "code",
   "execution_count": 3,
   "metadata": {},
   "outputs": [],
   "source": [
    "import sympy as sp"
   ]
  },
  {
   "cell_type": "code",
   "execution_count": 4,
   "metadata": {},
   "outputs": [],
   "source": [
    "a1, a2, a3, a4, a5, a6, n, m, s = sp.symbols([\"a1\", \"a2\", \"a3\", \"a4\", \"a5\", 'a6', 'n', 'm', 's'])"
   ]
  },
  {
   "cell_type": "code",
   "execution_count": 6,
   "metadata": {},
   "outputs": [],
   "source": [
    "r1 = Reaction(\n",
    "    {b1: n},\n",
    "    b1_4, a2, a1\n",
    ")\n",
    "r2 = Reaction(\n",
    "    {b1_4: m},\n",
    "    b2, a4, a3\n",
    ")\n",
    "r3 = Reaction(\n",
    "    {b2: s},\n",
    "    b4, a6, a5\n",
    ")"
   ]
  },
  {
   "cell_type": "code",
   "execution_count": 12,
   "metadata": {},
   "outputs": [
    {
     "data": {
      "text/latex": [
       "$\\displaystyle B_{2}^{s} a_{6} - B_{4} a_{5}$"
      ],
      "text/plain": [
       "B2**s*a6 - B4*a5"
      ]
     },
     "execution_count": 12,
     "metadata": {},
     "output_type": "execute_result"
    }
   ],
   "source": [
    "r3.get_diffeq_terms(b4)"
   ]
  },
  {
   "cell_type": "code",
   "execution_count": null,
   "metadata": {},
   "outputs": [],
   "source": []
  }
 ],
 "metadata": {
  "kernelspec": {
   "display_name": "ml",
   "language": "python",
   "name": "python3"
  },
  "language_info": {
   "codemirror_mode": {
    "name": "ipython",
    "version": 3
   },
   "file_extension": ".py",
   "mimetype": "text/x-python",
   "name": "python",
   "nbconvert_exporter": "python",
   "pygments_lexer": "ipython3",
   "version": "3.10.12"
  }
 },
 "nbformat": 4,
 "nbformat_minor": 2
}
